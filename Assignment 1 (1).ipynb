{
 "cells": [
  {
   "cell_type": "raw",
   "id": "5aa50fb6",
   "metadata": {},
   "source": [
    "1. In the below elements which of them are values or an expression? eg:- values can be\n",
    "integer or string and expressions will be mathematical operators.\n",
    "*\n",
    "'hello'\n",
    "-87.8\n",
    "-\n",
    "/\n",
    "+\n",
    "6\n",
    "\n",
    "\n",
    "ANS\n",
    "value = 'hello' , -87.8 , 6\n",
    "\n",
    "Expression = *, - , / , + "
   ]
  },
  {
   "cell_type": "raw",
   "id": "09eef111",
   "metadata": {},
   "source": [
    "2. What is the difference between string and variable?\n",
    "\n",
    "string = type of information\n",
    "\n",
    "variable - where we can store information"
   ]
  },
  {
   "cell_type": "raw",
   "id": "3cc7db16",
   "metadata": {},
   "source": [
    "3.Describe three different data types.\n",
    "  1. string\n",
    "  2. interger \n",
    "  3. float "
   ]
  },
  {
   "cell_type": "raw",
   "id": "8a30d922",
   "metadata": {},
   "source": [
    "4.What is an expression made up of? What do all expressions do?\n",
    "\n",
    "1. expression made up of multiple operators.\n",
    "\n",
    "2. expression can be use for representin a value.\n",
    "\n"
   ]
  },
  {
   "cell_type": "raw",
   "id": "d594f296",
   "metadata": {},
   "source": [
    "5. This assignment statements, like spam = 10. What is the difference between an\n",
    "expression and a statement?\n",
    "\n",
    "1. expression = ( = ),( 10 )\n",
    "\n",
    "2. statements = like spam\n"
   ]
  },
  {
   "cell_type": "raw",
   "id": "3b03a992",
   "metadata": {},
   "source": [
    "6. After running the following code, what does the variable bacon contain?\n",
    "bacon = 22\n",
    "bacon + 1\n",
    "\n",
    "1. bacon contain = 22"
   ]
  },
  {
   "cell_type": "raw",
   "id": "72cde883",
   "metadata": {},
   "source": [
    "7. What should the values of the following two terms be?\n",
    "\n",
    "'spam' + 'spamspam' = 'spamspamspam'\n",
    "\n",
    "'spam' * 3 = 'spamspamspam'"
   ]
  },
  {
   "cell_type": "raw",
   "id": "da5860f1",
   "metadata": {},
   "source": [
    "8.Why is eggs a valid variable name while 100 is invalid?\n",
    "\n",
    "1. 100 is number, variable cant be start with number"
   ]
  },
  {
   "cell_type": "raw",
   "id": "7a8e4297",
   "metadata": {},
   "source": [
    "9. What three functions can be used to get the integer, floating-point number, or string\n",
    "version of a value?\n",
    "\n",
    "1. int()\n",
    "2.float()\n",
    "3.str()"
   ]
  },
  {
   "cell_type": "raw",
   "id": "270aad14",
   "metadata": {},
   "source": [
    "10. Why does this expression cause an error? How can you fix it?\n",
    "'I have eaten' + 99 +'burritos.'\n",
    "\n",
    "Ans = 'I have eaten ' + str(99) +' burritos.'"
   ]
  }
 ],
 "metadata": {
  "kernelspec": {
   "display_name": "Python 3 (ipykernel)",
   "language": "python",
   "name": "python3"
  },
  "language_info": {
   "codemirror_mode": {
    "name": "ipython",
    "version": 3
   },
   "file_extension": ".py",
   "mimetype": "text/x-python",
   "name": "python",
   "nbconvert_exporter": "python",
   "pygments_lexer": "ipython3",
   "version": "3.9.7"
  }
 },
 "nbformat": 4,
 "nbformat_minor": 5
}
